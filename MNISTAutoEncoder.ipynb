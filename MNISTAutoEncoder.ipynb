{
  "nbformat": 4,
  "nbformat_minor": 0,
  "metadata": {
    "colab": {
      "provenance": [],
      "authorship_tag": "ABX9TyMut5E6DRvKwX+qKml1kanI",
      "include_colab_link": true
    },
    "kernelspec": {
      "name": "python3",
      "display_name": "Python 3"
    },
    "language_info": {
      "name": "python"
    }
  },
  "cells": [
    {
      "cell_type": "markdown",
      "metadata": {
        "id": "view-in-github",
        "colab_type": "text"
      },
      "source": [
        "<a href=\"https://colab.research.google.com/github/kozoB/MNIST_Auto_Encoder/blob/main/MNISTAutoEncoder.ipynb\" target=\"_parent\"><img src=\"https://colab.research.google.com/assets/colab-badge.svg\" alt=\"Open In Colab\"/></a>"
      ]
    },
    {
      "cell_type": "markdown",
      "source": [
        "# MNIST AutoEncoder"
      ],
      "metadata": {
        "id": "UnGq-oq6E0a_"
      }
    },
    {
      "cell_type": "markdown",
      "source": [
        "Here I tried to create an AutoEncoder for MNIST dataset's images which learn to represent the images with less data (downsampling the images to lower resoultion) and then recreating the images again with upsampling, trying to get the output images as similar as possible to the input images.\n",
        "The 'MNIST' is a simple dataset that consists of drawn digits, which should be easy to learn by the autoencoder"
      ],
      "metadata": {
        "id": "_EEoF_jIE5Tv"
      }
    },
    {
      "cell_type": "markdown",
      "source": [
        "# Imports"
      ],
      "metadata": {
        "id": "DO4ypMJkpPDh"
      }
    },
    {
      "cell_type": "code",
      "execution_count": null,
      "metadata": {
        "id": "DBM0gjYYpIUq"
      },
      "outputs": [],
      "source": [
        "import numpy as np\n",
        "import tensorflow as tf\n",
        "from tensorflow import keras as keras\n",
        "import matplotlib.pyplot as plt\n",
        "import cv2"
      ]
    },
    {
      "cell_type": "markdown",
      "source": [
        "# Preproccess Data"
      ],
      "metadata": {
        "id": "ploxd3GBvKmH"
      }
    },
    {
      "cell_type": "markdown",
      "source": [
        " ## Load 'Mnist' Dataset"
      ],
      "metadata": {
        "id": "_QoDhfYHp9aB"
      }
    },
    {
      "cell_type": "code",
      "source": [
        "(X_train, y_train), (X_test, y_test) = keras.datasets.mnist.load_data()\n",
        "plt.imshow(X_train[0], cmap=\"gray\")"
      ],
      "metadata": {
        "colab": {
          "base_uri": "https://localhost:8080/",
          "height": 482
        },
        "id": "s0NNFp5dp6YN",
        "outputId": "63a8c18c-ddec-4de7-dc5d-cfe80fea46d0"
      },
      "execution_count": null,
      "outputs": [
        {
          "output_type": "stream",
          "name": "stdout",
          "text": [
            "Downloading data from https://storage.googleapis.com/tensorflow/tf-keras-datasets/mnist.npz\n",
            "11490434/11490434 [==============================] - 0s 0us/step\n"
          ]
        },
        {
          "output_type": "execute_result",
          "data": {
            "text/plain": [
              "<matplotlib.image.AxesImage at 0x7d3c15a91c00>"
            ]
          },
          "metadata": {},
          "execution_count": 2
        },
        {
          "output_type": "display_data",
          "data": {
            "text/plain": [
              "<Figure size 640x480 with 1 Axes>"
            ],
            "image/png": "[encoded data removed]"
          },
          "metadata": {}
        }
      ]
    },
    {
      "cell_type": "markdown",
      "source": [
        "## Normalize Iamges to 0-1 Values Range"
      ],
      "metadata": {
        "id": "nkzdyxU2uudb"
      }
    },
    {
      "cell_type": "code",
      "source": [
        "X_train = X_train/225.0\n",
        "X_test = X_test/225.0"
      ],
      "metadata": {
        "id": "sAag736KrjZh"
      },
      "execution_count": null,
      "outputs": []
    },
    {
      "cell_type": "markdown",
      "source": [
        "# Create AutoEncoder"
      ],
      "metadata": {
        "id": "TkXOKNofvO0H"
      }
    },
    {
      "cell_type": "markdown",
      "source": [
        "## Define Encoder"
      ],
      "metadata": {
        "id": "Vbb8q7zcr4V0"
      }
    },
    {
      "cell_type": "markdown",
      "source": [
        "The encoder downsamples 28x28 grayscale images into 8x8 ones"
      ],
      "metadata": {
        "id": "tW-Ry6FDHOUi"
      }
    },
    {
      "cell_type": "code",
      "source": [
        "encoder_input = keras.Input(shape=(28,28,1), name=\"img\") # Encoder input as 28*28 image with 1 channel (grayscale)\n",
        "x = keras.layers.Flatten()(encoder_input)\n",
        "encoder_output = keras.layers.Dense(64, activation=\"relu\")(x)\n",
        "\n",
        "encoder = keras.Model(encoder_input, encoder_output, name=\"encoder\")"
      ],
      "metadata": {
        "id": "9rxLstqLvC2Y"
      },
      "execution_count": null,
      "outputs": []
    },
    {
      "cell_type": "markdown",
      "source": [
        "## Define Decoder"
      ],
      "metadata": {
        "id": "gc8PrPWI2meC"
      }
    },
    {
      "cell_type": "markdown",
      "source": [
        "Tje decoder than upsamples the encoded images back to 28x28 images, trying to reconstruct it to look like the original one"
      ],
      "metadata": {
        "id": "Wddo-cu5HckZ"
      }
    },
    {
      "cell_type": "code",
      "source": [
        "decoder_input = keras.layers.Dense(784, activation=\"relu\")(encoder_output)\n",
        "decoder_output = keras.layers.Reshape((28,28,1))(decoder_input)"
      ],
      "metadata": {
        "id": "iM9Q4_sG2opt"
      },
      "execution_count": null,
      "outputs": []
    },
    {
      "cell_type": "markdown",
      "source": [
        "## Define AutoEncoder Model"
      ],
      "metadata": {
        "id": "Ja4ad-MA2sRp"
      }
    },
    {
      "cell_type": "code",
      "source": [
        "autoencoder = keras.Model(encoder_input, decoder_output, name=\"autoencoder\")"
      ],
      "metadata": {
        "id": "C86Jy9OS2wOh"
      },
      "execution_count": null,
      "outputs": []
    },
    {
      "cell_type": "code",
      "source": [
        "autoencoder.summary()"
      ],
      "metadata": {
        "colab": {
          "base_uri": "https://localhost:8080/"
        },
        "id": "9mA00KVj2GN7",
        "outputId": "030704ef-a7f5-45c3-aa38-1561e7eb80f7"
      },
      "execution_count": null,
      "outputs": [
        {
          "output_type": "stream",
          "name": "stdout",
          "text": [
            "Model: \"autoencoder\"\n",
            "_________________________________________________________________\n",
            " Layer (type)                Output Shape              Param #   \n",
            "=================================================================\n",
            " img (InputLayer)            [(None, 28, 28, 1)]       0         \n",
            "                                                                 \n",
            " flatten (Flatten)           (None, 784)               0         \n",
            "                                                                 \n",
            " dense (Dense)               (None, 64)                50240     \n",
            "                                                                 \n",
            " dense_1 (Dense)             (None, 784)               50960     \n",
            "                                                                 \n",
            " reshape (Reshape)           (None, 28, 28, 1)         0         \n",
            "                                                                 \n",
            "=================================================================\n",
            "Total params: 101200 (395.31 KB)\n",
            "Trainable params: 101200 (395.31 KB)\n",
            "Non-trainable params: 0 (0.00 Byte)\n",
            "_________________________________________________________________\n"
          ]
        }
      ]
    },
    {
      "cell_type": "markdown",
      "source": [
        "## Define Metaparameters"
      ],
      "metadata": {
        "id": "G6JwELd33nyV"
      }
    },
    {
      "cell_type": "code",
      "source": [
        "optimizer = keras.optimizers.Adam(learning_rate=0.001)\n",
        "loss = keras.losses.mse\n",
        "epochs = 3\n",
        "batch_size = 32\n",
        "validation_split = 0.1"
      ],
      "metadata": {
        "id": "5acErwWG3red"
      },
      "execution_count": null,
      "outputs": []
    },
    {
      "cell_type": "markdown",
      "source": [
        "# Train AutoEncoder"
      ],
      "metadata": {
        "id": "VUtxbYa72-lh"
      }
    },
    {
      "cell_type": "code",
      "source": [
        "autoencoder.compile(loss = loss, optimizer=optimizer)"
      ],
      "metadata": {
        "id": "3f1X-Rnn3J2N"
      },
      "execution_count": null,
      "outputs": []
    },
    {
      "cell_type": "markdown",
      "source": [
        "The autoencdoer recieves X_train as the input and as the output/target which the autoencoder tries to reconstruct.\n",
        "\n",
        "The network adjusts it's weights to minimize the loss (difference) between the input image and the output image"
      ],
      "metadata": {
        "id": "ShV02lS-H4P6"
      }
    },
    {
      "cell_type": "code",
      "source": [
        "autoencoder.fit(X_train, X_train, epochs=epochs, batch_size=batch_size, validation_split=validation_split)"
      ],
      "metadata": {
        "colab": {
          "base_uri": "https://localhost:8080/"
        },
        "id": "bVhMy8uJ29Xl",
        "outputId": "af63c041-bd43-411d-b368-dcd1e592b3bc"
      },
      "execution_count": null,
      "outputs": [
        {
          "output_type": "stream",
          "name": "stdout",
          "text": [
            "Epoch 1/3\n",
            "1688/1688 [==============================] - 19s 9ms/step - loss: 0.0220 - val_loss: 0.0145\n",
            "Epoch 2/3\n",
            "1688/1688 [==============================] - 13s 8ms/step - loss: 0.0137 - val_loss: 0.0133\n",
            "Epoch 3/3\n",
            "1688/1688 [==============================] - 10s 6ms/step - loss: 0.0131 - val_loss: 0.0129\n"
          ]
        },
        {
          "output_type": "execute_result",
          "data": {
            "text/plain": [
              "<keras.src.callbacks.History at 0x7d3c12eae320>"
            ]
          },
          "metadata": {},
          "execution_count": 10
        }
      ]
    },
    {
      "cell_type": "code",
      "source": [
        "example = encoder.predict([X_test[0].reshape(-1,28,28,1)])[0]\n",
        "print(example)"
      ],
      "metadata": {
        "colab": {
          "base_uri": "https://localhost:8080/"
        },
        "id": "W2orMUuZ48TB",
        "outputId": "5363571b-b48b-4f45-e42d-b5e3e5ec5f7e"
      },
      "execution_count": null,
      "outputs": [
        {
          "output_type": "stream",
          "name": "stdout",
          "text": [
            "1/1 [==============================] - 0s 78ms/step\n",
            "[1.5386358  1.3685993  1.3535998  2.294439   0.6293408  0.6069853\n",
            " 1.4803928  0.54376763 0.62475586 0.5867286  0.         2.4011023\n",
            " 0.26401842 1.567572   1.0202932  0.34764913 0.5666245  0.7654322\n",
            " 0.         1.3243657  0.44919276 2.166779   0.44816738 1.535558\n",
            " 1.2097229  1.6457411  1.4844805  0.38578135 2.6204093  0.91488373\n",
            " 1.5540466  0.691173   1.6045257  1.8196309  0.         2.2293928\n",
            " 1.0112469  0.5525394  1.8145478  0.70735085 0.17027146 0.7022657\n",
            " 1.4211092  0.9840078  0.4361251  1.1031611  1.5948532  2.61781\n",
            " 0.         2.5563037  0.23851086 0.42463458 0.05031963 0.62339693\n",
            " 3.2407022  1.5501615  0.5091493  1.4598557  0.27455324 0.22460642\n",
            " 0.86505955 1.3507963  1.4562691  0.6205733 ]\n"
          ]
        }
      ]
    },
    {
      "cell_type": "code",
      "source": [
        "example.shape"
      ],
      "metadata": {
        "colab": {
          "base_uri": "https://localhost:8080/"
        },
        "id": "dU8EcM7-42QB",
        "outputId": "274ced2c-032a-46ed-9912-939fcff47560"
      },
      "execution_count": null,
      "outputs": [
        {
          "output_type": "execute_result",
          "data": {
            "text/plain": [
              "(64,)"
            ]
          },
          "metadata": {},
          "execution_count": 12
        }
      ]
    },
    {
      "cell_type": "markdown",
      "source": [
        "The encoded image's shape"
      ],
      "metadata": {
        "id": "B2f1hzUfIx71"
      }
    },
    {
      "cell_type": "markdown",
      "source": [
        "## Encoder Output - Low Resolution Image"
      ],
      "metadata": {
        "id": "QPIjXrQL-UII"
      }
    },
    {
      "cell_type": "code",
      "source": [
        "plt.imshow(example.reshape((8,8)), cmap=\"gray\")"
      ],
      "metadata": {
        "colab": {
          "base_uri": "https://localhost:8080/",
          "height": 447
        },
        "id": "box_2Beb5ev9",
        "outputId": "f92e585e-6ff0-4f85-85b2-7681df8bf131"
      },
      "execution_count": null,
      "outputs": [
        {
          "output_type": "execute_result",
          "data": {
            "text/plain": [
              "<matplotlib.image.AxesImage at 0x7d3be5a4c6a0>"
            ]
          },
          "metadata": {},
          "execution_count": 13
        },
        {
          "output_type": "display_data",
          "data": {
            "text/plain": [
              "<Figure size 640x480 with 1 Axes>"
            ],
            "image/png": "[encoded data removed]"
          },
          "metadata": {}
        }
      ]
    },
    {
      "cell_type": "markdown",
      "source": [
        "This is the downsampled image which is only 8x8, losing most of it's original data"
      ],
      "metadata": {
        "id": "PpOBwXdSFqi-"
      }
    },
    {
      "cell_type": "markdown",
      "source": [
        "## Actual Image"
      ],
      "metadata": {
        "id": "k5YUZQfW-b4o"
      }
    },
    {
      "cell_type": "code",
      "source": [
        "plt.imshow(X_test[0], cmap=\"gray\")"
      ],
      "metadata": {
        "colab": {
          "base_uri": "https://localhost:8080/",
          "height": 447
        },
        "id": "PmAlIK2K8HXI",
        "outputId": "e10c7030-85b6-4f2a-f7c1-41b16f453c5f"
      },
      "execution_count": null,
      "outputs": [
        {
          "output_type": "execute_result",
          "data": {
            "text/plain": [
              "<matplotlib.image.AxesImage at 0x7d3c15a91b10>"
            ]
          },
          "metadata": {},
          "execution_count": 14
        },
        {
          "output_type": "display_data",
          "data": {
            "text/plain": [
              "<Figure size 640x480 with 1 Axes>"
            ],
            "image/png": "[encoded data removed]"
          },
          "metadata": {}
        }
      ]
    },
    {
      "cell_type": "markdown",
      "source": [
        "The original image before downsampling with the encoder"
      ],
      "metadata": {
        "id": "Tb5_tc53Fzjm"
      }
    },
    {
      "cell_type": "markdown",
      "source": [
        "# AutoEncoder Predictions"
      ],
      "metadata": {
        "id": "ejTJ18IY-fo7"
      }
    },
    {
      "cell_type": "code",
      "source": [
        "autoencoder_output = autoencoder.predict([X_test[0].reshape(-1,28,28,1)])[0]"
      ],
      "metadata": {
        "colab": {
          "base_uri": "https://localhost:8080/"
        },
        "id": "kcM7cNNA8WgE",
        "outputId": "0d1ee736-5c4f-44fb-d0f0-37317c776806"
      },
      "execution_count": null,
      "outputs": [
        {
          "output_type": "stream",
          "name": "stdout",
          "text": [
            "1/1 [==============================] - 0s 20ms/step\n"
          ]
        }
      ]
    },
    {
      "cell_type": "markdown",
      "source": [
        "## AutoEncoder Prediciton Result"
      ],
      "metadata": {
        "id": "9dXkSIS9-oSC"
      }
    },
    {
      "cell_type": "code",
      "source": [
        "plt.imshow(autoencoder_output, cmap=\"gray\")"
      ],
      "metadata": {
        "colab": {
          "base_uri": "https://localhost:8080/",
          "height": 447
        },
        "id": "eKpoHPNO8m4E",
        "outputId": "ca2720b2-2da2-48d4-8e5e-b6fe25ab137e"
      },
      "execution_count": null,
      "outputs": [
        {
          "output_type": "execute_result",
          "data": {
            "text/plain": [
              "<matplotlib.image.AxesImage at 0x7d3bf5fabee0>"
            ]
          },
          "metadata": {},
          "execution_count": 19
        },
        {
          "output_type": "display_data",
          "data": {
            "text/plain": [
              "<Figure size 640x480 with 1 Axes>"
            ],
            "image/png": "[encoded data removed]"
          },
          "metadata": {}
        }
      ]
    },
    {
      "cell_type": "markdown",
      "source": [
        "This is the autoencoder result after upsampling the encoded image. As we can see, it looks very similar to the original image, which shows that the autoencoder has managed to learn how to represent the images being only 8x8 and recreate them again pretty accuratly"
      ],
      "metadata": {
        "id": "exGmJdqqF4TO"
      }
    },
    {
      "cell_type": "markdown",
      "source": [
        "## Another Example"
      ],
      "metadata": {
        "id": "Tm57yk6LGX4y"
      }
    },
    {
      "cell_type": "markdown",
      "source": [
        "Lrt's take another image as an example an try to feed it to the autoencoder"
      ],
      "metadata": {
        "id": "WsX-DzRVGuyX"
      }
    },
    {
      "cell_type": "code",
      "source": [
        "pred_2 = autoencoder.predict([X_test[1].reshape(-1,28,28,1)])[0]"
      ],
      "metadata": {
        "colab": {
          "base_uri": "https://localhost:8080/"
        },
        "id": "ury9yVmU9WXU",
        "outputId": "4d09bdb9-b3a1-4c71-d2aa-652de219c7f2"
      },
      "execution_count": null,
      "outputs": [
        {
          "output_type": "stream",
          "name": "stdout",
          "text": [
            "1/1 [==============================] - 0s 20ms/step\n"
          ]
        }
      ]
    },
    {
      "cell_type": "code",
      "source": [
        "plt.imshow(X_test[1], cmap=\"gray\")"
      ],
      "metadata": {
        "colab": {
          "base_uri": "https://localhost:8080/",
          "height": 447
        },
        "id": "l6iVKZRU9a9H",
        "outputId": "20080145-78b7-4ed0-a19f-c0c56f9d2e24"
      },
      "execution_count": null,
      "outputs": [
        {
          "output_type": "execute_result",
          "data": {
            "text/plain": [
              "<matplotlib.image.AxesImage at 0x7d3bf5fa88e0>"
            ]
          },
          "metadata": {},
          "execution_count": 21
        },
        {
          "output_type": "display_data",
          "data": {
            "text/plain": [
              "<Figure size 640x480 with 1 Axes>"
            ],
            "image/png": "[encoded data removed]"
          },
          "metadata": {}
        }
      ]
    },
    {
      "cell_type": "markdown",
      "source": [
        "Original image - the autoencoder's input"
      ],
      "metadata": {
        "id": "r3KR6923Gl9G"
      }
    },
    {
      "cell_type": "code",
      "source": [
        "plt.imshow(pred_2, cmap=\"gray\")"
      ],
      "metadata": {
        "colab": {
          "base_uri": "https://localhost:8080/",
          "height": 447
        },
        "id": "SuSLpLg99ZuL",
        "outputId": "30f423d5-6b96-40dd-a77b-979f7a23b7e8"
      },
      "execution_count": null,
      "outputs": [
        {
          "output_type": "execute_result",
          "data": {
            "text/plain": [
              "<matplotlib.image.AxesImage at 0x7d3bf5ef44c0>"
            ]
          },
          "metadata": {},
          "execution_count": 23
        },
        {
          "output_type": "display_data",
          "data": {
            "text/plain": [
              "<Figure size 640x480 with 1 Axes>"
            ],
            "image/png": "[encoded data removed]"
          },
          "metadata": {}
        }
      ]
    },
    {
      "cell_type": "markdown",
      "source": [
        "Another example of the autoencoder output and it's similarity to the original input image"
      ],
      "metadata": {
        "id": "wJpiPjjPGbv-"
      }
    }
  ]
}